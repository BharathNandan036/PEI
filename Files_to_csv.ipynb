{
 "cells": [
  {
   "cell_type": "code",
   "execution_count": 1,
   "id": "abd9901e-1c2e-4fa1-9f00-15243ba69e79",
   "metadata": {},
   "outputs": [],
   "source": [
    "import pandas as pan\n",
    "import json"
   ]
  },
  {
   "cell_type": "markdown",
   "id": "4dc4baf3-b9c2-414c-97b7-6419d9fc9a80",
   "metadata": {},
   "source": [
    "# Shipping data Json to CSV"
   ]
  },
  {
   "cell_type": "markdown",
   "id": "e2b64434-3d81-421f-b152-d07996c69f32",
   "metadata": {},
   "source": [
    "Since the data needed to be loaded in MYSql server converting the data in json format to csv using the below steps."
   ]
  },
  {
   "cell_type": "code",
   "execution_count": 2,
   "id": "f6c4e19e-5286-47d2-a68c-4bee8ddd37de",
   "metadata": {},
   "outputs": [],
   "source": [
    "file = r\"C:\\Users\\bhara\\Downloads\\Shipping.json\"\n",
    "with open(file, \"r\") as f:\n",
    "    data = json.load(f)"
   ]
  },
  {
   "cell_type": "code",
   "execution_count": 3,
   "id": "6556569d-676f-45c9-b42a-244177380463",
   "metadata": {},
   "outputs": [],
   "source": [
    "shipping_data = pan.DataFrame(data)"
   ]
  },
  {
   "cell_type": "code",
   "execution_count": 4,
   "id": "36b98f51-6ced-4fa4-ba81-37e00e604580",
   "metadata": {},
   "outputs": [
    {
     "data": {
      "text/html": [
       "<div>\n",
       "<style scoped>\n",
       "    .dataframe tbody tr th:only-of-type {\n",
       "        vertical-align: middle;\n",
       "    }\n",
       "\n",
       "    .dataframe tbody tr th {\n",
       "        vertical-align: top;\n",
       "    }\n",
       "\n",
       "    .dataframe thead th {\n",
       "        text-align: right;\n",
       "    }\n",
       "</style>\n",
       "<table border=\"1\" class=\"dataframe\">\n",
       "  <thead>\n",
       "    <tr style=\"text-align: right;\">\n",
       "      <th></th>\n",
       "      <th>Shipping_ID</th>\n",
       "      <th>Status</th>\n",
       "      <th>Customer_ID</th>\n",
       "    </tr>\n",
       "  </thead>\n",
       "  <tbody>\n",
       "    <tr>\n",
       "      <th>0</th>\n",
       "      <td>1</td>\n",
       "      <td>Pending</td>\n",
       "      <td>173</td>\n",
       "    </tr>\n",
       "    <tr>\n",
       "      <th>1</th>\n",
       "      <td>2</td>\n",
       "      <td>Pending</td>\n",
       "      <td>155</td>\n",
       "    </tr>\n",
       "    <tr>\n",
       "      <th>2</th>\n",
       "      <td>3</td>\n",
       "      <td>Delivered</td>\n",
       "      <td>242</td>\n",
       "    </tr>\n",
       "    <tr>\n",
       "      <th>3</th>\n",
       "      <td>4</td>\n",
       "      <td>Pending</td>\n",
       "      <td>223</td>\n",
       "    </tr>\n",
       "    <tr>\n",
       "      <th>4</th>\n",
       "      <td>5</td>\n",
       "      <td>Delivered</td>\n",
       "      <td>72</td>\n",
       "    </tr>\n",
       "  </tbody>\n",
       "</table>\n",
       "</div>"
      ],
      "text/plain": [
       "   Shipping_ID     Status  Customer_ID\n",
       "0            1    Pending          173\n",
       "1            2    Pending          155\n",
       "2            3  Delivered          242\n",
       "3            4    Pending          223\n",
       "4            5  Delivered           72"
      ]
     },
     "execution_count": 4,
     "metadata": {},
     "output_type": "execute_result"
    }
   ],
   "source": [
    "shipping_data.head()"
   ]
  },
  {
   "cell_type": "code",
   "execution_count": 5,
   "id": "0ab4228a-45dd-4d92-946c-ca23eeb6a07c",
   "metadata": {},
   "outputs": [],
   "source": [
    "output =   r\"C:\\Users\\bhara\\Downloads\\Shipping_data.csv\"\n",
    "shipping_data.to_csv(output, index=False)"
   ]
  },
  {
   "cell_type": "markdown",
   "id": "c25a0eda-8a61-4018-bb84-1135e5c289c9",
   "metadata": {},
   "source": [
    "# Customer Data excel to CSV"
   ]
  },
  {
   "cell_type": "markdown",
   "id": "f38cfd9e-53a4-4f19-9100-4b7d027ea915",
   "metadata": {},
   "source": [
    "Converting excel to csv format to be read in MYSql"
   ]
  },
  {
   "cell_type": "code",
   "execution_count": 9,
   "id": "489f377a-daa3-4b62-bbcf-e82559139140",
   "metadata": {},
   "outputs": [
    {
     "name": "stdout",
     "output_type": "stream",
     "text": [
      "Collecting xlrd\n",
      "  Downloading xlrd-2.0.2-py2.py3-none-any.whl.metadata (3.5 kB)\n",
      "Downloading xlrd-2.0.2-py2.py3-none-any.whl (96 kB)\n",
      "Installing collected packages: xlrd\n",
      "Successfully installed xlrd-2.0.2\n",
      "Note: you may need to restart the kernel to use updated packages.\n"
     ]
    }
   ],
   "source": [
    "pip install xlrd"
   ]
  },
  {
   "cell_type": "code",
   "execution_count": 10,
   "id": "11573408-fb09-4745-b4c8-c48574388119",
   "metadata": {},
   "outputs": [],
   "source": [
    "customer = r\"C:\\Users\\bhara\\Downloads\\Customer.xls\"\n"
   ]
  },
  {
   "cell_type": "code",
   "execution_count": 11,
   "id": "aa0688ec-e56a-4ca5-8b89-813f5dd3579e",
   "metadata": {},
   "outputs": [],
   "source": [
    "customer_xls = pan.read_excel(customer)"
   ]
  },
  {
   "cell_type": "code",
   "execution_count": 14,
   "id": "d058f2dc-a79f-4acc-872e-ccc94e8bb8f3",
   "metadata": {},
   "outputs": [],
   "source": [
    "customer_xls.to_csv(\"C:\\\\Users\\\\bhara\\\\Downloads\\\\Customer.csv\", index=False)"
   ]
  },
  {
   "cell_type": "code",
   "execution_count": null,
   "id": "631e16a7-5842-493f-9b88-5982daeaac7a",
   "metadata": {},
   "outputs": [],
   "source": []
  }
 ],
 "metadata": {
  "kernelspec": {
   "display_name": "Python 3 (ipykernel)",
   "language": "python",
   "name": "python3"
  },
  "language_info": {
   "codemirror_mode": {
    "name": "ipython",
    "version": 3
   },
   "file_extension": ".py",
   "mimetype": "text/x-python",
   "name": "python",
   "nbconvert_exporter": "python",
   "pygments_lexer": "ipython3",
   "version": "3.13.5"
  }
 },
 "nbformat": 4,
 "nbformat_minor": 5
}
