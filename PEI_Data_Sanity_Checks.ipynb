{
 "cells": [
  {
   "cell_type": "code",
   "execution_count": 1,
   "id": "c625a236-43a5-466c-98d6-24ac44a72da4",
   "metadata": {},
   "outputs": [],
   "source": [
    "import pandas as pan"
   ]
  },
  {
   "cell_type": "markdown",
   "id": "777f3c0b-8c76-4dbc-a0ad-c2c34e5ccaa9",
   "metadata": {},
   "source": [
    "# Loading data"
   ]
  },
  {
   "cell_type": "markdown",
   "id": "c5398ab3-a17e-434b-92d4-67a235d0aef5",
   "metadata": {},
   "source": [
    "All the provided data was converted to CSV in the previous section. starting with the data sanity checks in the current version. "
   ]
  },
  {
   "cell_type": "code",
   "execution_count": 2,
   "id": "e22739ee-b0f4-4ae2-9722-c81835460f89",
   "metadata": {},
   "outputs": [],
   "source": [
    "customers = pan.read_csv(r\"C:\\Users\\bhara\\Downloads\\customer.csv\")\n",
    "orders = pan.read_csv(r\"C:\\Users\\bhara\\Downloads\\order.csv\")\n",
    "shipping = pan.read_csv(r\"C:\\Users\\bhara\\Downloads\\shipping_data.csv\")"
   ]
  },
  {
   "cell_type": "markdown",
   "id": "529c8060-3f9d-4149-9c43-a37f0c09b5a3",
   "metadata": {},
   "source": [
    "# Customer Data Sanity Checks"
   ]
  },
  {
   "cell_type": "code",
   "execution_count": 5,
   "id": "d68d9983-a380-4ba1-a70d-80d0d0e49d65",
   "metadata": {},
   "outputs": [],
   "source": [
    "cust_data_length = len(customers)  # Counting the number of rows\n",
    "\n",
    "cust_id_count = customers['Customer_ID'].nunique() # Counting the number of customers by checking the unique count of Customer Ids"
   ]
  },
  {
   "cell_type": "markdown",
   "id": "593a1746-54d5-4ec2-b555-523424fabc72",
   "metadata": {},
   "source": [
    "Counting the null values if any "
   ]
  },
  {
   "cell_type": "code",
   "execution_count": 9,
   "id": "2cfecc02-5a8a-441f-b003-b232c4bd5934",
   "metadata": {},
   "outputs": [],
   "source": [
    "null_cust_id = customers['Customer_ID'].isna().sum()\n",
    "null_first_name = customers['First'].isna().sum()\n",
    "null_last_name = customers['Last'].isna().sum()\n",
    "null_age = customers['Age'].isna().sum()\n",
    "null_country = customers['Country'].isna().sum()"
   ]
  },
  {
   "cell_type": "markdown",
   "id": "abadf76a-73e9-4405-b03f-2f37f3d416ae",
   "metadata": {},
   "source": [
    "Counting the rows with invalid values eg: number of special chars in first name or last name and non numbric values in age and customer_id columns"
   ]
  },
  {
   "cell_type": "code",
   "execution_count": 13,
   "id": "36f9fa7d-e170-4460-b8dc-d427d0a0318b",
   "metadata": {},
   "outputs": [],
   "source": [
    "invalid_age = ((customers['Age'] < 0) | (customers['Age'] > 120)).sum()\n",
    "invalid_firstname = customers['First'].astype(str).str.contains(r'[^A-Za-z]', regex=True, na=False).sum()\n",
    "invalid_lastname  = customers['Last'].astype(str).str.contains(r'[^A-Za-z]', regex=True, na=False).sum()\n",
    "invalid_cust_id_all = ~customers['Customer_ID'].astype(str).str.match(r'^[0-9]+$', na=False)\n",
    "invalid_cust_id = invalid_cust_id_all.sum()"
   ]
  },
  {
   "cell_type": "code",
   "execution_count": 23,
   "id": "333edeed-f6e3-42bf-9260-43a61583c724",
   "metadata": {},
   "outputs": [
    {
     "data": {
      "text/html": [
       "<div>\n",
       "<style scoped>\n",
       "    .dataframe tbody tr th:only-of-type {\n",
       "        vertical-align: middle;\n",
       "    }\n",
       "\n",
       "    .dataframe tbody tr th {\n",
       "        vertical-align: top;\n",
       "    }\n",
       "\n",
       "    .dataframe thead th {\n",
       "        text-align: right;\n",
       "    }\n",
       "</style>\n",
       "<table border=\"1\" class=\"dataframe\">\n",
       "  <thead>\n",
       "    <tr style=\"text-align: right;\">\n",
       "      <th></th>\n",
       "      <th>Total_Rows</th>\n",
       "      <th>Unique_Cust_Ids</th>\n",
       "      <th>Null_cust_ids</th>\n",
       "      <th>Null_first_name</th>\n",
       "      <th>Null_lastname</th>\n",
       "      <th>null_age</th>\n",
       "      <th>null_country</th>\n",
       "      <th>invalid_age</th>\n",
       "      <th>invalid_firstname</th>\n",
       "      <th>invalid_lastname</th>\n",
       "      <th>invalid_cust_id</th>\n",
       "    </tr>\n",
       "  </thead>\n",
       "  <tbody>\n",
       "    <tr>\n",
       "      <th>0</th>\n",
       "      <td>250</td>\n",
       "      <td>250</td>\n",
       "      <td>0</td>\n",
       "      <td>0</td>\n",
       "      <td>0</td>\n",
       "      <td>0</td>\n",
       "      <td>0</td>\n",
       "      <td>0</td>\n",
       "      <td>10</td>\n",
       "      <td>2</td>\n",
       "      <td>0</td>\n",
       "    </tr>\n",
       "  </tbody>\n",
       "</table>\n",
       "</div>"
      ],
      "text/plain": [
       "   Total_Rows  Unique_Cust_Ids  Null_cust_ids  Null_first_name  Null_lastname  \\\n",
       "0         250              250              0                0              0   \n",
       "\n",
       "   null_age  null_country  invalid_age  invalid_firstname  invalid_lastname  \\\n",
       "0         0             0            0                 10                 2   \n",
       "\n",
       "   invalid_cust_id  \n",
       "0                0  "
      ]
     },
     "execution_count": 23,
     "metadata": {},
     "output_type": "execute_result"
    }
   ],
   "source": [
    "sanity_check = pan.DataFrame({\"Total_Rows\" : [cust_data_length] , \"Unique_Cust_Ids\" : [cust_id_count] , \"Null_cust_ids\" : [null_cust_id],\n",
    "                             \"Null_first_name\" : [null_first_name] , \"Null_lastname\" : [null_last_name] , \"null_age\" : [null_age] , \n",
    "                             \"null_country\" : [null_country], \"invalid_age\":[invalid_age] , \"invalid_firstname\" : [invalid_firstname],\n",
    "                             \"invalid_lastname\" : [invalid_lastname] , \"invalid_cust_id\" : [invalid_cust_id]})\n",
    "\n",
    "sanity_check\n",
    "                             "
   ]
  },
  {
   "cell_type": "markdown",
   "id": "3857a674-917e-4adc-9fe5-9e77e15c9d6b",
   "metadata": {},
   "source": [
    "Checking the rown with name issues "
   ]
  },
  {
   "cell_type": "code",
   "execution_count": 19,
   "id": "7c3dacca-3ff6-4b42-a2ed-9996aac7ffc2",
   "metadata": {},
   "outputs": [
    {
     "data": {
      "text/html": [
       "<div>\n",
       "<style scoped>\n",
       "    .dataframe tbody tr th:only-of-type {\n",
       "        vertical-align: middle;\n",
       "    }\n",
       "\n",
       "    .dataframe tbody tr th {\n",
       "        vertical-align: top;\n",
       "    }\n",
       "\n",
       "    .dataframe thead th {\n",
       "        text-align: right;\n",
       "    }\n",
       "</style>\n",
       "<table border=\"1\" class=\"dataframe\">\n",
       "  <thead>\n",
       "    <tr style=\"text-align: right;\">\n",
       "      <th></th>\n",
       "      <th>Customer_ID</th>\n",
       "      <th>First</th>\n",
       "      <th>Last</th>\n",
       "      <th>Age</th>\n",
       "      <th>Country</th>\n",
       "    </tr>\n",
       "  </thead>\n",
       "  <tbody>\n",
       "    <tr>\n",
       "      <th>5</th>\n",
       "      <td>6</td>\n",
       "      <td>N!cole</td>\n",
       "      <td>Jones</td>\n",
       "      <td>33</td>\n",
       "      <td>USA</td>\n",
       "    </tr>\n",
       "    <tr>\n",
       "      <th>13</th>\n",
       "      <td>14</td>\n",
       "      <td>N!cole</td>\n",
       "      <td>Lara</td>\n",
       "      <td>77</td>\n",
       "      <td>UK</td>\n",
       "    </tr>\n",
       "    <tr>\n",
       "      <th>108</th>\n",
       "      <td>109</td>\n",
       "      <td>R0bert</td>\n",
       "      <td>Moore</td>\n",
       "      <td>40</td>\n",
       "      <td>UK</td>\n",
       "    </tr>\n",
       "    <tr>\n",
       "      <th>112</th>\n",
       "      <td>113</td>\n",
       "      <td>Derrick</td>\n",
       "      <td>R0berts</td>\n",
       "      <td>72</td>\n",
       "      <td>UK</td>\n",
       "    </tr>\n",
       "    <tr>\n",
       "      <th>117</th>\n",
       "      <td>118</td>\n",
       "      <td>R0bert</td>\n",
       "      <td>Shepherd</td>\n",
       "      <td>28</td>\n",
       "      <td>UK</td>\n",
       "    </tr>\n",
       "    <tr>\n",
       "      <th>161</th>\n",
       "      <td>162</td>\n",
       "      <td>N!cole</td>\n",
       "      <td>Bennett</td>\n",
       "      <td>51</td>\n",
       "      <td>USA</td>\n",
       "    </tr>\n",
       "    <tr>\n",
       "      <th>170</th>\n",
       "      <td>171</td>\n",
       "      <td>L@rry</td>\n",
       "      <td>Cole</td>\n",
       "      <td>50</td>\n",
       "      <td>USA</td>\n",
       "    </tr>\n",
       "    <tr>\n",
       "      <th>197</th>\n",
       "      <td>198</td>\n",
       "      <td>R0bert</td>\n",
       "      <td>Bryan</td>\n",
       "      <td>49</td>\n",
       "      <td>UK</td>\n",
       "    </tr>\n",
       "    <tr>\n",
       "      <th>210</th>\n",
       "      <td>211</td>\n",
       "      <td>Al1cia</td>\n",
       "      <td>Thompson</td>\n",
       "      <td>38</td>\n",
       "      <td>USA</td>\n",
       "    </tr>\n",
       "    <tr>\n",
       "      <th>213</th>\n",
       "      <td>214</td>\n",
       "      <td>N!cole</td>\n",
       "      <td>Mcintyre</td>\n",
       "      <td>18</td>\n",
       "      <td>UK</td>\n",
       "    </tr>\n",
       "    <tr>\n",
       "      <th>235</th>\n",
       "      <td>236</td>\n",
       "      <td>Al1cia</td>\n",
       "      <td>Jensen</td>\n",
       "      <td>19</td>\n",
       "      <td>USA</td>\n",
       "    </tr>\n",
       "    <tr>\n",
       "      <th>241</th>\n",
       "      <td>242</td>\n",
       "      <td>Mark</td>\n",
       "      <td>R0berts</td>\n",
       "      <td>61</td>\n",
       "      <td>USA</td>\n",
       "    </tr>\n",
       "  </tbody>\n",
       "</table>\n",
       "</div>"
      ],
      "text/plain": [
       "     Customer_ID    First      Last  Age Country\n",
       "5              6   N!cole     Jones   33     USA\n",
       "13            14   N!cole      Lara   77      UK\n",
       "108          109   R0bert     Moore   40      UK\n",
       "112          113  Derrick   R0berts   72      UK\n",
       "117          118   R0bert  Shepherd   28      UK\n",
       "161          162   N!cole   Bennett   51     USA\n",
       "170          171    L@rry      Cole   50     USA\n",
       "197          198   R0bert     Bryan   49      UK\n",
       "210          211   Al1cia  Thompson   38     USA\n",
       "213          214   N!cole  Mcintyre   18      UK\n",
       "235          236   Al1cia    Jensen   19     USA\n",
       "241          242     Mark   R0berts   61     USA"
      ]
     },
     "execution_count": 19,
     "metadata": {},
     "output_type": "execute_result"
    }
   ],
   "source": [
    "issue_name_rows = customers[ customers['First'].astype(str).str.contains(r'[^A-Za-z]', regex=True, na=False) \n",
    "| customers['Last'].astype(str).str.contains(r'[^A-Za-z]', regex=True, na=False)]\n",
    "\n",
    "issue_name_rows"
   ]
  },
  {
   "cell_type": "markdown",
   "id": "129ae731-a676-48bf-b2b4-0a48fa2c7d92",
   "metadata": {},
   "source": [
    "we can see the issues in the above data is either first or last name is having a special character or number , below shows each row and the error is it"
   ]
  },
  {
   "cell_type": "code",
   "execution_count": 22,
   "id": "0ef1a92e-79a5-4e16-9a76-fc8af7df3b44",
   "metadata": {},
   "outputs": [
    {
     "data": {
      "text/html": [
       "<div>\n",
       "<style scoped>\n",
       "    .dataframe tbody tr th:only-of-type {\n",
       "        vertical-align: middle;\n",
       "    }\n",
       "\n",
       "    .dataframe tbody tr th {\n",
       "        vertical-align: top;\n",
       "    }\n",
       "\n",
       "    .dataframe thead th {\n",
       "        text-align: right;\n",
       "    }\n",
       "</style>\n",
       "<table border=\"1\" class=\"dataframe\">\n",
       "  <thead>\n",
       "    <tr style=\"text-align: right;\">\n",
       "      <th></th>\n",
       "      <th>Customer_ID</th>\n",
       "      <th>First</th>\n",
       "      <th>Last</th>\n",
       "      <th>Age</th>\n",
       "      <th>Country</th>\n",
       "      <th>error_type</th>\n",
       "    </tr>\n",
       "  </thead>\n",
       "  <tbody>\n",
       "    <tr>\n",
       "      <th>5</th>\n",
       "      <td>6</td>\n",
       "      <td>N!cole</td>\n",
       "      <td>Jones</td>\n",
       "      <td>33</td>\n",
       "      <td>USA</td>\n",
       "      <td>first name has special char</td>\n",
       "    </tr>\n",
       "    <tr>\n",
       "      <th>13</th>\n",
       "      <td>14</td>\n",
       "      <td>N!cole</td>\n",
       "      <td>Lara</td>\n",
       "      <td>77</td>\n",
       "      <td>UK</td>\n",
       "      <td>first name has special char</td>\n",
       "    </tr>\n",
       "    <tr>\n",
       "      <th>108</th>\n",
       "      <td>109</td>\n",
       "      <td>R0bert</td>\n",
       "      <td>Moore</td>\n",
       "      <td>40</td>\n",
       "      <td>UK</td>\n",
       "      <td>first name has number</td>\n",
       "    </tr>\n",
       "    <tr>\n",
       "      <th>112</th>\n",
       "      <td>113</td>\n",
       "      <td>Derrick</td>\n",
       "      <td>R0berts</td>\n",
       "      <td>72</td>\n",
       "      <td>UK</td>\n",
       "      <td>last name has number</td>\n",
       "    </tr>\n",
       "    <tr>\n",
       "      <th>117</th>\n",
       "      <td>118</td>\n",
       "      <td>R0bert</td>\n",
       "      <td>Shepherd</td>\n",
       "      <td>28</td>\n",
       "      <td>UK</td>\n",
       "      <td>first name has number</td>\n",
       "    </tr>\n",
       "    <tr>\n",
       "      <th>161</th>\n",
       "      <td>162</td>\n",
       "      <td>N!cole</td>\n",
       "      <td>Bennett</td>\n",
       "      <td>51</td>\n",
       "      <td>USA</td>\n",
       "      <td>first name has special char</td>\n",
       "    </tr>\n",
       "    <tr>\n",
       "      <th>170</th>\n",
       "      <td>171</td>\n",
       "      <td>L@rry</td>\n",
       "      <td>Cole</td>\n",
       "      <td>50</td>\n",
       "      <td>USA</td>\n",
       "      <td>first name has special char</td>\n",
       "    </tr>\n",
       "    <tr>\n",
       "      <th>197</th>\n",
       "      <td>198</td>\n",
       "      <td>R0bert</td>\n",
       "      <td>Bryan</td>\n",
       "      <td>49</td>\n",
       "      <td>UK</td>\n",
       "      <td>first name has number</td>\n",
       "    </tr>\n",
       "    <tr>\n",
       "      <th>210</th>\n",
       "      <td>211</td>\n",
       "      <td>Al1cia</td>\n",
       "      <td>Thompson</td>\n",
       "      <td>38</td>\n",
       "      <td>USA</td>\n",
       "      <td>first name has number</td>\n",
       "    </tr>\n",
       "    <tr>\n",
       "      <th>213</th>\n",
       "      <td>214</td>\n",
       "      <td>N!cole</td>\n",
       "      <td>Mcintyre</td>\n",
       "      <td>18</td>\n",
       "      <td>UK</td>\n",
       "      <td>first name has special char</td>\n",
       "    </tr>\n",
       "    <tr>\n",
       "      <th>235</th>\n",
       "      <td>236</td>\n",
       "      <td>Al1cia</td>\n",
       "      <td>Jensen</td>\n",
       "      <td>19</td>\n",
       "      <td>USA</td>\n",
       "      <td>first name has number</td>\n",
       "    </tr>\n",
       "    <tr>\n",
       "      <th>241</th>\n",
       "      <td>242</td>\n",
       "      <td>Mark</td>\n",
       "      <td>R0berts</td>\n",
       "      <td>61</td>\n",
       "      <td>USA</td>\n",
       "      <td>last name has number</td>\n",
       "    </tr>\n",
       "  </tbody>\n",
       "</table>\n",
       "</div>"
      ],
      "text/plain": [
       "     Customer_ID    First      Last  Age Country                   error_type\n",
       "5              6   N!cole     Jones   33     USA  first name has special char\n",
       "13            14   N!cole      Lara   77      UK  first name has special char\n",
       "108          109   R0bert     Moore   40      UK        first name has number\n",
       "112          113  Derrick   R0berts   72      UK         last name has number\n",
       "117          118   R0bert  Shepherd   28      UK        first name has number\n",
       "161          162   N!cole   Bennett   51     USA  first name has special char\n",
       "170          171    L@rry      Cole   50     USA  first name has special char\n",
       "197          198   R0bert     Bryan   49      UK        first name has number\n",
       "210          211   Al1cia  Thompson   38     USA        first name has number\n",
       "213          214   N!cole  Mcintyre   18      UK  first name has special char\n",
       "235          236   Al1cia    Jensen   19     USA        first name has number\n",
       "241          242     Mark   R0berts   61     USA         last name has number"
      ]
     },
     "execution_count": 22,
     "metadata": {},
     "output_type": "execute_result"
    }
   ],
   "source": [
    "customers.loc[customers['First'].astype(str).str.contains(r'[0-9]', na=False), 'error_type'] = \"first name has number\"\n",
    "customers.loc[customers['First'].astype(str).str.contains(r'[^A-Za-z0-9]', na=False), 'error_type'] = \"first name has special char\"\n",
    "customers.loc[customers['Last'].astype(str).str.contains(r'[0-9]', na=False), 'error_type'] = \"last name has number\"\n",
    "customers.loc[customers['Last'].astype(str).str.contains(r'[^A-Za-z0-9]', na=False), 'error_type'] = \"last name has special char\"\n",
    "\n",
    "# showing only errors rows\n",
    "errors = customers[customers['error_type'].notna()]\n",
    "\n",
    "errors"
   ]
  },
  {
   "cell_type": "markdown",
   "id": "235c7488-7408-4c70-a420-0e97bdd3e653",
   "metadata": {},
   "source": [
    "# Orders data sanity check"
   ]
  },
  {
   "cell_type": "code",
   "execution_count": 28,
   "id": "359183ec-39ba-4a24-b51c-a3e4f1019140",
   "metadata": {},
   "outputs": [
    {
     "data": {
      "text/html": [
       "<div>\n",
       "<style scoped>\n",
       "    .dataframe tbody tr th:only-of-type {\n",
       "        vertical-align: middle;\n",
       "    }\n",
       "\n",
       "    .dataframe tbody tr th {\n",
       "        vertical-align: top;\n",
       "    }\n",
       "\n",
       "    .dataframe thead th {\n",
       "        text-align: right;\n",
       "    }\n",
       "</style>\n",
       "<table border=\"1\" class=\"dataframe\">\n",
       "  <thead>\n",
       "    <tr style=\"text-align: right;\">\n",
       "      <th></th>\n",
       "      <th>Total_Rows</th>\n",
       "      <th>order_id_count</th>\n",
       "      <th>null_order_id</th>\n",
       "      <th>null_item</th>\n",
       "      <th>null_amount</th>\n",
       "      <th>null_cust</th>\n",
       "      <th>invalid_amount</th>\n",
       "      <th>invalid_item</th>\n",
       "      <th>invalid_ordr_id</th>\n",
       "      <th>invalid_cust_id</th>\n",
       "    </tr>\n",
       "  </thead>\n",
       "  <tbody>\n",
       "    <tr>\n",
       "      <th>0</th>\n",
       "      <td>250</td>\n",
       "      <td>250</td>\n",
       "      <td>0</td>\n",
       "      <td>0</td>\n",
       "      <td>0</td>\n",
       "      <td>0</td>\n",
       "      <td>0</td>\n",
       "      <td>0</td>\n",
       "      <td>0</td>\n",
       "      <td>0</td>\n",
       "    </tr>\n",
       "  </tbody>\n",
       "</table>\n",
       "</div>"
      ],
      "text/plain": [
       "   Total_Rows  order_id_count  null_order_id  null_item  null_amount  \\\n",
       "0         250             250              0          0            0   \n",
       "\n",
       "   null_cust  invalid_amount  invalid_item  invalid_ordr_id  invalid_cust_id  \n",
       "0          0               0             0                0                0  "
      ]
     },
     "execution_count": 28,
     "metadata": {},
     "output_type": "execute_result"
    }
   ],
   "source": [
    "order_data_length = len(orders)  # Counting the number of rows\n",
    "\n",
    "order_id_count = orders['Order_ID'].nunique() # Counting the number of Order by checking the unique count of Order Ids\n",
    "# counting for nulls \n",
    "null_order_id = orders['Order_ID'].isna().sum()\n",
    "null_item = orders['Item'].isna().sum()\n",
    "null_amount = orders['Amount'].isna().sum()\n",
    "null_cust = orders['Customer_ID'].isna().sum()\n",
    "\n",
    "# checking for numbers and junks in the Item columns\n",
    "\n",
    "invalid_amount = ((orders['Amount'] < 0) ).sum()\n",
    "invalid_item = orders['Item'].astype(str).str.contains(r'[^A-Za-z ]', regex=True, na=False).sum()\n",
    "invalid_Order_ID_all = ~customers['Customer_ID'].astype(str).str.match(r'^[0-9]+$', na=False)\n",
    "invalid_ordr_id = invalid_Order_ID_all.sum()\n",
    "invalid_cust_id_all = ~customers['Customer_ID'].astype(str).str.match(r'^[0-9]+$', na=False)\n",
    "invalid_cust_id = invalid_cust_id_all.sum()\n",
    "\n",
    "order_sanity = pan.DataFrame({\"Total_Rows\" : [order_data_length] , \"order_id_count\" : [order_id_count] , \"null_order_id\" : [null_order_id],\n",
    "                             \"null_item\" : [null_item] , \"null_amount\" : [null_amount] , \"null_cust\" : [null_cust] , \n",
    "                             \"invalid_amount\" : [invalid_amount], \"invalid_item\":[invalid_item] , \"invalid_ordr_id\" : [invalid_ordr_id],\n",
    "                             \"invalid_cust_id\" : [invalid_cust_id]})\n",
    "\n",
    "order_sanity\n",
    "                             "
   ]
  },
  {
   "cell_type": "code",
   "execution_count": 27,
   "id": "6ab88dad-2d65-4e5a-aaeb-13e0352a4ba2",
   "metadata": {},
   "outputs": [
    {
     "data": {
      "text/plain": [
       "array(['Keyboard', 'Mouse', 'Monitor', 'Mousepad', 'Harddisk', 'Webcam',\n",
       "       'DDR RAM', 'Headset'], dtype=object)"
      ]
     },
     "execution_count": 27,
     "metadata": {},
     "output_type": "execute_result"
    }
   ],
   "source": [
    "orders['Item'].unique()"
   ]
  },
  {
   "cell_type": "markdown",
   "id": "0be03d00-70d9-4a8a-a076-ae06b2b7bd6b",
   "metadata": {},
   "source": [
    "# Shipping Data sanity checks"
   ]
  },
  {
   "cell_type": "code",
   "execution_count": 30,
   "id": "506122d8-ddcf-4a1d-9208-d39d1db82200",
   "metadata": {},
   "outputs": [
    {
     "data": {
      "text/html": [
       "<div>\n",
       "<style scoped>\n",
       "    .dataframe tbody tr th:only-of-type {\n",
       "        vertical-align: middle;\n",
       "    }\n",
       "\n",
       "    .dataframe tbody tr th {\n",
       "        vertical-align: top;\n",
       "    }\n",
       "\n",
       "    .dataframe thead th {\n",
       "        text-align: right;\n",
       "    }\n",
       "</style>\n",
       "<table border=\"1\" class=\"dataframe\">\n",
       "  <thead>\n",
       "    <tr style=\"text-align: right;\">\n",
       "      <th></th>\n",
       "      <th>shipping_data_length</th>\n",
       "      <th>shipping_id_count</th>\n",
       "      <th>null_Shipping_ID</th>\n",
       "      <th>null_status</th>\n",
       "      <th>null_cust</th>\n",
       "      <th>invalid_status</th>\n",
       "      <th>invalid_Shipping_ID</th>\n",
       "      <th>invalid_cust_id</th>\n",
       "    </tr>\n",
       "  </thead>\n",
       "  <tbody>\n",
       "    <tr>\n",
       "      <th>0</th>\n",
       "      <td>250</td>\n",
       "      <td>250</td>\n",
       "      <td>0</td>\n",
       "      <td>0</td>\n",
       "      <td>0</td>\n",
       "      <td>0</td>\n",
       "      <td>0</td>\n",
       "      <td>0</td>\n",
       "    </tr>\n",
       "  </tbody>\n",
       "</table>\n",
       "</div>"
      ],
      "text/plain": [
       "   shipping_data_length  shipping_id_count  null_Shipping_ID  null_status  \\\n",
       "0                   250                250                 0            0   \n",
       "\n",
       "   null_cust  invalid_status  invalid_Shipping_ID  invalid_cust_id  \n",
       "0          0               0                    0                0  "
      ]
     },
     "execution_count": 30,
     "metadata": {},
     "output_type": "execute_result"
    }
   ],
   "source": [
    "shipping_data_length = len(shipping)  # Counting the number of rows\n",
    "shipping_id_count = shipping['Shipping_ID'].nunique() # Counting the number of shippings by checking the unique count of shipping Ids\n",
    "# counting for nulls \n",
    "null_Shipping_ID = shipping['Shipping_ID'].isna().sum()\n",
    "null_status = shipping['Status'].isna().sum()\n",
    "null_cust = shipping['Customer_ID'].isna().sum()\n",
    "\n",
    "# checking for numbers and junks in the Item columns\n",
    "\n",
    "invalid_status = shipping['Status'].astype(str).str.contains(r'[^A-Za-z]', regex=True, na=False).sum()\n",
    "invalid_Shipping_ID_all = ~shipping['Shipping_ID'].astype(str).str.match(r'^[0-9]+$', na=False)\n",
    "invalid_Shipping_ID = invalid_Shipping_ID_all.sum()\n",
    "invalid_cust_id_all = ~shipping['Customer_ID'].astype(str).str.match(r'^[0-9]+$', na=False)\n",
    "invalid_cust_id = invalid_cust_id_all.sum()\n",
    "\n",
    "shipping_sanity = pan.DataFrame({\"shipping_data_length\" : [shipping_data_length] , \"shipping_id_count\" : [shipping_id_count] ,\n",
    "                                 \"null_Shipping_ID\" : [null_Shipping_ID],\"null_status\" : [null_status] , \"null_cust\" : [null_cust] ,\n",
    "                                 \"invalid_status\" : [invalid_status] , \"invalid_Shipping_ID\" : [invalid_Shipping_ID],\n",
    "                                 \"invalid_cust_id\":[invalid_cust_id]})\n",
    "\n",
    "shipping_sanity\n",
    "                             "
   ]
  },
  {
   "cell_type": "markdown",
   "id": "a087055f-e183-4a4d-9191-fcaf080355ee",
   "metadata": {},
   "source": [
    "# Context checking : checking if the customers in order table and shipping tables are from customer table only "
   ]
  },
  {
   "cell_type": "code",
   "execution_count": 31,
   "id": "cc59c0b1-2ae3-420e-a55c-7b61ba01fdf1",
   "metadata": {},
   "outputs": [
    {
     "name": "stdout",
     "output_type": "stream",
     "text": [
      "Empty DataFrame\n",
      "Columns: [Order_ID, Item, Amount, Customer_ID]\n",
      "Index: []\n",
      "Empty DataFrame\n",
      "Columns: [Shipping_ID, Status, Customer_ID]\n",
      "Index: []\n"
     ]
    }
   ],
   "source": [
    "customers = customers['Customer_ID'].unique()\n",
    "\n",
    "not_customer_orders = orders[~orders['Customer_ID'].isin(customers)]\n",
    "not_customer_shipping = shipping[~shipping['Customer_ID'].isin(customers)]\n",
    "\n",
    "print(not_customer_orders)\n",
    "print(not_customer_shipping)"
   ]
  },
  {
   "cell_type": "markdown",
   "id": "d269f0fa-7734-4a04-b81a-52cfa3144d05",
   "metadata": {},
   "source": [
    "Returned empty data frame which means all the orders were from listed customers and all to shipments were to listed customers only."
   ]
  },
  {
   "cell_type": "code",
   "execution_count": null,
   "id": "df3145eb-7830-4317-8d09-a90b488d8eec",
   "metadata": {},
   "outputs": [],
   "source": []
  }
 ],
 "metadata": {
  "kernelspec": {
   "display_name": "Python 3 (ipykernel)",
   "language": "python",
   "name": "python3"
  },
  "language_info": {
   "codemirror_mode": {
    "name": "ipython",
    "version": 3
   },
   "file_extension": ".py",
   "mimetype": "text/x-python",
   "name": "python",
   "nbconvert_exporter": "python",
   "pygments_lexer": "ipython3",
   "version": "3.13.5"
  }
 },
 "nbformat": 4,
 "nbformat_minor": 5
}
